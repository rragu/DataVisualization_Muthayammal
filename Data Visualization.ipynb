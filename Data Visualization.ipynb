{
 "cells": [
  {
   "cell_type": "code",
   "execution_count": 2,
   "id": "5dfebeb7",
   "metadata": {},
   "outputs": [
    {
     "name": "stdout",
     "output_type": "stream",
     "text": [
      "Collecting digautoprofiler\n",
      "  Downloading digautoprofiler-3.0.1-py3-none-any.whl (3.1 MB)\n",
      "Collecting pandas>=1.4.2\n",
      "  Downloading pandas-2.1.2-cp39-cp39-win_amd64.whl (10.8 MB)\n",
      "Requirement already satisfied: jupyterlab<4.0.0,>=3 in c:\\programdata\\anaconda3\\lib\\site-packages (from digautoprofiler) (3.2.1)\n",
      "Collecting altair\n",
      "  Downloading altair-5.1.2-py3-none-any.whl (516 kB)\n",
      "Requirement already satisfied: tornado>=6.1.0 in c:\\programdata\\anaconda3\\lib\\site-packages (from jupyterlab<4.0.0,>=3->digautoprofiler) (6.1)\n",
      "Requirement already satisfied: ipython in c:\\programdata\\anaconda3\\lib\\site-packages (from jupyterlab<4.0.0,>=3->digautoprofiler) (7.29.0)\n",
      "Requirement already satisfied: nbclassic~=0.2 in c:\\programdata\\anaconda3\\lib\\site-packages (from jupyterlab<4.0.0,>=3->digautoprofiler) (0.2.6)\n",
      "Requirement already satisfied: jupyterlab-server~=2.3 in c:\\programdata\\anaconda3\\lib\\site-packages (from jupyterlab<4.0.0,>=3->digautoprofiler) (2.8.2)\n",
      "Requirement already satisfied: jupyter-core in c:\\programdata\\anaconda3\\lib\\site-packages (from jupyterlab<4.0.0,>=3->digautoprofiler) (4.8.1)\n",
      "Requirement already satisfied: packaging in c:\\programdata\\anaconda3\\lib\\site-packages (from jupyterlab<4.0.0,>=3->digautoprofiler) (22.0)\n",
      "Requirement already satisfied: jinja2>=2.1 in c:\\programdata\\anaconda3\\lib\\site-packages (from jupyterlab<4.0.0,>=3->digautoprofiler) (2.11.3)\n",
      "Requirement already satisfied: jupyter-server~=1.4 in c:\\programdata\\anaconda3\\lib\\site-packages (from jupyterlab<4.0.0,>=3->digautoprofiler) (1.4.1)\n",
      "Requirement already satisfied: MarkupSafe>=0.23 in c:\\programdata\\anaconda3\\lib\\site-packages (from jinja2>=2.1->jupyterlab<4.0.0,>=3->digautoprofiler) (1.1.1)\n",
      "Requirement already satisfied: pyzmq>=17 in c:\\programdata\\anaconda3\\lib\\site-packages (from jupyter-server~=1.4->jupyterlab<4.0.0,>=3->digautoprofiler) (22.2.1)\n",
      "Requirement already satisfied: traitlets>=4.2.1 in c:\\programdata\\anaconda3\\lib\\site-packages (from jupyter-server~=1.4->jupyterlab<4.0.0,>=3->digautoprofiler) (5.1.0)\n",
      "Requirement already satisfied: nbconvert in c:\\programdata\\anaconda3\\lib\\site-packages (from jupyter-server~=1.4->jupyterlab<4.0.0,>=3->digautoprofiler) (6.1.0)\n",
      "Requirement already satisfied: prometheus-client in c:\\programdata\\anaconda3\\lib\\site-packages (from jupyter-server~=1.4->jupyterlab<4.0.0,>=3->digautoprofiler) (0.11.0)\n",
      "Requirement already satisfied: Send2Trash in c:\\programdata\\anaconda3\\lib\\site-packages (from jupyter-server~=1.4->jupyterlab<4.0.0,>=3->digautoprofiler) (1.8.0)\n",
      "Requirement already satisfied: jupyter-client>=6.1.1 in c:\\programdata\\anaconda3\\lib\\site-packages (from jupyter-server~=1.4->jupyterlab<4.0.0,>=3->digautoprofiler) (6.1.12)\n",
      "Requirement already satisfied: nbformat in c:\\programdata\\anaconda3\\lib\\site-packages (from jupyter-server~=1.4->jupyterlab<4.0.0,>=3->digautoprofiler) (5.1.3)\n",
      "Requirement already satisfied: anyio>=2.0.2 in c:\\programdata\\anaconda3\\lib\\site-packages (from jupyter-server~=1.4->jupyterlab<4.0.0,>=3->digautoprofiler) (2.2.0)\n",
      "Requirement already satisfied: pywin32>=1.0 in c:\\programdata\\anaconda3\\lib\\site-packages (from jupyter-server~=1.4->jupyterlab<4.0.0,>=3->digautoprofiler) (228)\n",
      "Requirement already satisfied: terminado>=0.8.3 in c:\\programdata\\anaconda3\\lib\\site-packages (from jupyter-server~=1.4->jupyterlab<4.0.0,>=3->digautoprofiler) (0.9.4)\n",
      "Requirement already satisfied: ipython-genutils in c:\\programdata\\anaconda3\\lib\\site-packages (from jupyter-server~=1.4->jupyterlab<4.0.0,>=3->digautoprofiler) (0.2.0)\n",
      "Requirement already satisfied: sniffio>=1.1 in c:\\programdata\\anaconda3\\lib\\site-packages (from anyio>=2.0.2->jupyter-server~=1.4->jupyterlab<4.0.0,>=3->digautoprofiler) (1.2.0)\n",
      "Requirement already satisfied: idna>=2.8 in c:\\programdata\\anaconda3\\lib\\site-packages (from anyio>=2.0.2->jupyter-server~=1.4->jupyterlab<4.0.0,>=3->digautoprofiler) (3.2)\n",
      "Requirement already satisfied: python-dateutil>=2.1 in c:\\programdata\\anaconda3\\lib\\site-packages (from jupyter-client>=6.1.1->jupyter-server~=1.4->jupyterlab<4.0.0,>=3->digautoprofiler) (2.8.2)\n",
      "Requirement already satisfied: entrypoints>=0.2.2 in c:\\programdata\\anaconda3\\lib\\site-packages (from jupyterlab-server~=2.3->jupyterlab<4.0.0,>=3->digautoprofiler) (0.3)\n",
      "Requirement already satisfied: requests in c:\\programdata\\anaconda3\\lib\\site-packages (from jupyterlab-server~=2.3->jupyterlab<4.0.0,>=3->digautoprofiler) (2.26.0)\n",
      "Requirement already satisfied: json5 in c:\\programdata\\anaconda3\\lib\\site-packages (from jupyterlab-server~=2.3->jupyterlab<4.0.0,>=3->digautoprofiler) (0.9.6)\n",
      "Requirement already satisfied: jsonschema>=3.0.1 in c:\\programdata\\anaconda3\\lib\\site-packages (from jupyterlab-server~=2.3->jupyterlab<4.0.0,>=3->digautoprofiler) (3.2.0)\n",
      "Requirement already satisfied: babel in c:\\programdata\\anaconda3\\lib\\site-packages (from jupyterlab-server~=2.3->jupyterlab<4.0.0,>=3->digautoprofiler) (2.9.1)\n",
      "Requirement already satisfied: pyrsistent>=0.14.0 in c:\\programdata\\anaconda3\\lib\\site-packages (from jsonschema>=3.0.1->jupyterlab-server~=2.3->jupyterlab<4.0.0,>=3->digautoprofiler) (0.18.0)\n",
      "Requirement already satisfied: setuptools in c:\\programdata\\anaconda3\\lib\\site-packages (from jsonschema>=3.0.1->jupyterlab-server~=2.3->jupyterlab<4.0.0,>=3->digautoprofiler) (67.8.0)\n",
      "Requirement already satisfied: six>=1.11.0 in c:\\programdata\\anaconda3\\lib\\site-packages (from jsonschema>=3.0.1->jupyterlab-server~=2.3->jupyterlab<4.0.0,>=3->digautoprofiler) (1.16.0)\n",
      "Requirement already satisfied: attrs>=17.4.0 in c:\\programdata\\anaconda3\\lib\\site-packages (from jsonschema>=3.0.1->jupyterlab-server~=2.3->jupyterlab<4.0.0,>=3->digautoprofiler) (21.2.0)\n",
      "Requirement already satisfied: notebook<7 in c:\\programdata\\anaconda3\\lib\\site-packages (from nbclassic~=0.2->jupyterlab<4.0.0,>=3->digautoprofiler) (6.4.5)\n",
      "Requirement already satisfied: argon2-cffi in c:\\programdata\\anaconda3\\lib\\site-packages (from notebook<7->nbclassic~=0.2->jupyterlab<4.0.0,>=3->digautoprofiler) (20.1.0)\n",
      "Requirement already satisfied: ipykernel in c:\\programdata\\anaconda3\\lib\\site-packages (from notebook<7->nbclassic~=0.2->jupyterlab<4.0.0,>=3->digautoprofiler) (6.4.1)\n",
      "Collecting numpy<2,>=1.22.4\n",
      "  Downloading numpy-1.26.1-cp39-cp39-win_amd64.whl (15.8 MB)\n",
      "Requirement already satisfied: pytz>=2020.1 in c:\\programdata\\anaconda3\\lib\\site-packages (from pandas>=1.4.2->digautoprofiler) (2021.3)\n",
      "Requirement already satisfied: tzdata>=2022.1 in c:\\programdata\\anaconda3\\lib\\site-packages (from pandas>=1.4.2->digautoprofiler) (2022.7)\n",
      "Requirement already satisfied: pywinpty>=0.5 in c:\\programdata\\anaconda3\\lib\\site-packages (from terminado>=0.8.3->jupyter-server~=1.4->jupyterlab<4.0.0,>=3->digautoprofiler) (0.5.7)"
     ]
    },
    {
     "name": "stderr",
     "output_type": "stream",
     "text": [
      "ERROR: Could not install packages due to an OSError: [WinError 5] Access is denied: 'c:\\\\programdata\\\\anaconda3\\\\lib\\\\site-packages\\\\numpy-1.20.3.dist-info\\\\direct_url.json'\n",
      "Consider using the `--user` option or check the permissions.\n",
      "\n"
     ]
    },
    {
     "name": "stdout",
     "output_type": "stream",
     "text": [
      "\n",
      "Requirement already satisfied: toolz in c:\\programdata\\anaconda3\\lib\\site-packages (from altair->digautoprofiler) (0.11.1)\n",
      "Requirement already satisfied: typing-extensions>=4.0.1 in c:\\programdata\\anaconda3\\lib\\site-packages (from altair->digautoprofiler) (4.8.0)\n",
      "Requirement already satisfied: cffi>=1.0.0 in c:\\programdata\\anaconda3\\lib\\site-packages (from argon2-cffi->notebook<7->nbclassic~=0.2->jupyterlab<4.0.0,>=3->digautoprofiler) (1.14.6)\n",
      "Requirement already satisfied: pycparser in c:\\programdata\\anaconda3\\lib\\site-packages (from cffi>=1.0.0->argon2-cffi->notebook<7->nbclassic~=0.2->jupyterlab<4.0.0,>=3->digautoprofiler) (2.20)\n",
      "Requirement already satisfied: debugpy<2.0,>=1.0.0 in c:\\programdata\\anaconda3\\lib\\site-packages (from ipykernel->notebook<7->nbclassic~=0.2->jupyterlab<4.0.0,>=3->digautoprofiler) (1.4.1)\n",
      "Requirement already satisfied: matplotlib-inline<0.2.0,>=0.1.0 in c:\\programdata\\anaconda3\\lib\\site-packages (from ipykernel->notebook<7->nbclassic~=0.2->jupyterlab<4.0.0,>=3->digautoprofiler) (0.1.2)\n",
      "Requirement already satisfied: prompt-toolkit!=3.0.0,!=3.0.1,<3.1.0,>=2.0.0 in c:\\programdata\\anaconda3\\lib\\site-packages (from ipython->jupyterlab<4.0.0,>=3->digautoprofiler) (3.0.20)\n",
      "Requirement already satisfied: pickleshare in c:\\programdata\\anaconda3\\lib\\site-packages (from ipython->jupyterlab<4.0.0,>=3->digautoprofiler) (0.7.5)\n",
      "Requirement already satisfied: jedi>=0.16 in c:\\programdata\\anaconda3\\lib\\site-packages (from ipython->jupyterlab<4.0.0,>=3->digautoprofiler) (0.18.0)\n",
      "Requirement already satisfied: pygments in c:\\programdata\\anaconda3\\lib\\site-packages (from ipython->jupyterlab<4.0.0,>=3->digautoprofiler) (2.10.0)\n",
      "Requirement already satisfied: decorator in c:\\programdata\\anaconda3\\lib\\site-packages (from ipython->jupyterlab<4.0.0,>=3->digautoprofiler) (4.4.2)\n",
      "Requirement already satisfied: colorama in c:\\programdata\\anaconda3\\lib\\site-packages (from ipython->jupyterlab<4.0.0,>=3->digautoprofiler) (0.4.4)\n",
      "Requirement already satisfied: backcall in c:\\programdata\\anaconda3\\lib\\site-packages (from ipython->jupyterlab<4.0.0,>=3->digautoprofiler) (0.2.0)\n",
      "Requirement already satisfied: parso<0.9.0,>=0.8.0 in c:\\programdata\\anaconda3\\lib\\site-packages (from jedi>=0.16->ipython->jupyterlab<4.0.0,>=3->digautoprofiler) (0.8.2)\n",
      "Requirement already satisfied: wcwidth in c:\\programdata\\anaconda3\\lib\\site-packages (from prompt-toolkit!=3.0.0,!=3.0.1,<3.1.0,>=2.0.0->ipython->jupyterlab<4.0.0,>=3->digautoprofiler) (0.2.5)\n",
      "Requirement already satisfied: defusedxml in c:\\programdata\\anaconda3\\lib\\site-packages (from nbconvert->jupyter-server~=1.4->jupyterlab<4.0.0,>=3->digautoprofiler) (0.7.1)\n",
      "Requirement already satisfied: nbclient<0.6.0,>=0.5.0 in c:\\programdata\\anaconda3\\lib\\site-packages (from nbconvert->jupyter-server~=1.4->jupyterlab<4.0.0,>=3->digautoprofiler) (0.5.3)\n",
      "Requirement already satisfied: jupyterlab-pygments in c:\\programdata\\anaconda3\\lib\\site-packages (from nbconvert->jupyter-server~=1.4->jupyterlab<4.0.0,>=3->digautoprofiler) (0.1.2)\n",
      "Requirement already satisfied: pandocfilters>=1.4.1 in c:\\programdata\\anaconda3\\lib\\site-packages (from nbconvert->jupyter-server~=1.4->jupyterlab<4.0.0,>=3->digautoprofiler) (1.4.3)\n",
      "Requirement already satisfied: bleach in c:\\programdata\\anaconda3\\lib\\site-packages (from nbconvert->jupyter-server~=1.4->jupyterlab<4.0.0,>=3->digautoprofiler) (4.0.0)\n",
      "Requirement already satisfied: mistune<2,>=0.8.1 in c:\\programdata\\anaconda3\\lib\\site-packages (from nbconvert->jupyter-server~=1.4->jupyterlab<4.0.0,>=3->digautoprofiler) (0.8.4)\n",
      "Requirement already satisfied: testpath in c:\\programdata\\anaconda3\\lib\\site-packages (from nbconvert->jupyter-server~=1.4->jupyterlab<4.0.0,>=3->digautoprofiler) (0.5.0)\n",
      "Requirement already satisfied: async-generator in c:\\programdata\\anaconda3\\lib\\site-packages (from nbclient<0.6.0,>=0.5.0->nbconvert->jupyter-server~=1.4->jupyterlab<4.0.0,>=3->digautoprofiler) (1.10)\n",
      "Requirement already satisfied: nest-asyncio in c:\\programdata\\anaconda3\\lib\\site-packages (from nbclient<0.6.0,>=0.5.0->nbconvert->jupyter-server~=1.4->jupyterlab<4.0.0,>=3->digautoprofiler) (1.5.1)\n",
      "Requirement already satisfied: webencodings in c:\\programdata\\anaconda3\\lib\\site-packages (from bleach->nbconvert->jupyter-server~=1.4->jupyterlab<4.0.0,>=3->digautoprofiler) (0.5.1)\n",
      "Requirement already satisfied: certifi>=2017.4.17 in c:\\programdata\\anaconda3\\lib\\site-packages (from requests->jupyterlab-server~=2.3->jupyterlab<4.0.0,>=3->digautoprofiler) (2021.10.8)\n",
      "Requirement already satisfied: urllib3<1.27,>=1.21.1 in c:\\programdata\\anaconda3\\lib\\site-packages (from requests->jupyterlab-server~=2.3->jupyterlab<4.0.0,>=3->digautoprofiler) (1.26.7)\n",
      "Requirement already satisfied: charset-normalizer~=2.0.0 in c:\\programdata\\anaconda3\\lib\\site-packages (from requests->jupyterlab-server~=2.3->jupyterlab<4.0.0,>=3->digautoprofiler) (2.0.4)\n",
      "Installing collected packages: numpy, pandas, altair, digautoprofiler\n",
      "  Attempting uninstall: numpy\n",
      "    Found existing installation: numpy 1.20.3\n",
      "    Uninstalling numpy-1.20.3:\n"
     ]
    }
   ],
   "source": [
    "!pip install -U digautoprofiler"
   ]
  },
  {
   "cell_type": "code",
   "execution_count": 4,
   "id": "6d2ee123",
   "metadata": {},
   "outputs": [
    {
     "name": "stdout",
     "output_type": "stream",
     "text": [
      "Selected Jupyter core packages...\n",
      "IPython          : 7.29.0\n",
      "ipykernel        : 6.4.1\n",
      "ipywidgets       : 7.6.5\n",
      "jupyter_client   : 6.1.12\n",
      "jupyter_core     : 4.8.1\n",
      "jupyter_server   : 1.4.1\n",
      "jupyterlab       : 3.2.1\n",
      "nbclient         : 0.5.3\n",
      "nbconvert        : 6.1.0\n",
      "nbformat         : 5.1.3\n",
      "notebook         : 6.4.5\n",
      "qtconsole        : 5.1.1\n",
      "traitlets        : 5.1.0\n"
     ]
    }
   ],
   "source": [
    "!jupyter --version"
   ]
  },
  {
   "cell_type": "code",
   "execution_count": 5,
   "id": "b68bbab0",
   "metadata": {},
   "outputs": [],
   "source": [
    "#AutoProfiler only works in JupyterLab with version >=3.x, < 4.0.0."
   ]
  },
  {
   "cell_type": "code",
   "execution_count": 3,
   "id": "7e4aeab5",
   "metadata": {},
   "outputs": [],
   "source": [
    "import pandas as pd\n",
    "df = pd.read_csv(\"Latest Covid-19 India Status.csv\")"
   ]
  },
  {
   "cell_type": "code",
   "execution_count": 6,
   "id": "13bb327f",
   "metadata": {},
   "outputs": [],
   "source": [
    "import psutil\n",
    "import gc"
   ]
  },
  {
   "cell_type": "code",
   "execution_count": 8,
   "id": "0b683cd0",
   "metadata": {},
   "outputs": [
    {
     "data": {
      "text/plain": [
       "17.287040153044277"
      ]
     },
     "execution_count": 8,
     "metadata": {},
     "output_type": "execute_result"
    }
   ],
   "source": [
    "psutil.virtual_memory().available * 100 / psutil.virtual_memory().total"
   ]
  },
  {
   "cell_type": "code",
   "execution_count": 9,
   "id": "7e5a72f5",
   "metadata": {},
   "outputs": [],
   "source": [
    "del df"
   ]
  },
  {
   "cell_type": "code",
   "execution_count": 11,
   "id": "9d4d3f68",
   "metadata": {},
   "outputs": [
    {
     "data": {
      "text/plain": [
       "21228"
      ]
     },
     "execution_count": 11,
     "metadata": {},
     "output_type": "execute_result"
    }
   ],
   "source": [
    "gc.collect()"
   ]
  },
  {
   "cell_type": "code",
   "execution_count": 15,
   "id": "67909c9a",
   "metadata": {},
   "outputs": [
    {
     "data": {
      "text/plain": [
       "17.259347395826897"
      ]
     },
     "execution_count": 15,
     "metadata": {},
     "output_type": "execute_result"
    }
   ],
   "source": [
    "psutil.virtual_memory().available * 100 / psutil.virtual_memory().total"
   ]
  },
  {
   "cell_type": "code",
   "execution_count": null,
   "id": "5c4304e4",
   "metadata": {},
   "outputs": [],
   "source": [
    "## CPython Technique"
   ]
  },
  {
   "cell_type": "code",
   "execution_count": 1,
   "id": "9dacec2e",
   "metadata": {},
   "outputs": [],
   "source": [
    "\n",
    "def python_func(check):\n",
    "    count = 0\n",
    "    for i in range(10000):\n",
    "        for j in range(10000):\n",
    "            if(i+j)%11 == check:\n",
    "                count += 1\n",
    "    return count\n",
    "\n"
   ]
  },
  {
   "cell_type": "code",
   "execution_count": 3,
   "id": "e640cfc8",
   "metadata": {},
   "outputs": [
    {
     "name": "stdout",
     "output_type": "stream",
     "text": [
      "7.33 s ± 133 ms per loop (mean ± std. dev. of 7 runs, 1 loop each)\n"
     ]
    }
   ],
   "source": [
    "%%timeit\n",
    "python_func(9999)"
   ]
  },
  {
   "cell_type": "code",
   "execution_count": null,
   "id": "38e8709d",
   "metadata": {},
   "outputs": [],
   "source": []
  },
  {
   "cell_type": "code",
   "execution_count": null,
   "id": "2514b367",
   "metadata": {},
   "outputs": [],
   "source": []
  }
 ],
 "metadata": {
  "kernelspec": {
   "display_name": "Python 3 (ipykernel)",
   "language": "python",
   "name": "python3"
  },
  "language_info": {
   "codemirror_mode": {
    "name": "ipython",
    "version": 3
   },
   "file_extension": ".py",
   "mimetype": "text/x-python",
   "name": "python",
   "nbconvert_exporter": "python",
   "pygments_lexer": "ipython3",
   "version": "3.9.7"
  },
  "vp": {
   "vp_config_version": "1.0.0",
   "vp_menu_width": 273,
   "vp_note_display": false,
   "vp_note_width": 0,
   "vp_position": {
    "width": 278
   },
   "vp_section_display": false,
   "vp_signature": "VisualPython"
  }
 },
 "nbformat": 4,
 "nbformat_minor": 5
}
